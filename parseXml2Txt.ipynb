{
 "cells": [
  {
   "cell_type": "code",
   "execution_count": 1,
   "metadata": {},
   "outputs": [
    {
     "name": "stdout",
     "output_type": "stream",
     "text": [
      "{'aquarium': 0, 'bottle': 1, 'bowl': 2, 'box': 3, 'bucket': 4, 'plastic_bag': 5, 'plate': 6, 'styrofoam': 7, 'tire': 8, 'toilet': 9, 'tub': 10, 'washing_machine': 11, 'water_tower': 12}\n",
      "Filename 2008112929.xml not found\n",
      "Filename 2008113027.xml not found\n",
      "Filename 2008113034.xml not found\n",
      "Filename 2008120619.xml not found\n",
      "Filename 2008120723.xml not found\n",
      "Filename 20090429.xml not found\n",
      "Filename 200905139.xml not found\n",
      "Filename 201009163.xml not found\n",
      "Filename 20100917.xml not found\n",
      "Filename 201012091.xml not found\n",
      "Filename 201307255.xml not found\n",
      "Totally we found 2510 images\n",
      "Totally we found 150 images\n"
     ]
    }
   ],
   "source": [
    "import os\n",
    "import xmltodict\n",
    "import xml.etree.ElementTree as ET\n",
    "\n",
    "with open('id.txt', 'r', encoding='utf-8') as fp:\n",
    "    data = fp.readlines()\n",
    "len1 = len(data)\n",
    "maps = dict()\n",
    "for i in range(len1):\n",
    "    id1 = data[i].strip('\\n')\n",
    "    maps.update({id1:i})\n",
    "\n",
    "print(maps)\n",
    "def db(val, xy):\n",
    "    val = int(val)\n",
    "    if xy==0:\n",
    "        if val<0 or val>1920:\n",
    "            return True\n",
    "        else:\n",
    "            return False\n",
    "    else:\n",
    "        if val<0 or val>1080:\n",
    "            return True\n",
    "        else:\n",
    "            return False\n",
    "dirx = os.listdir('train_cdc/train_annotations/')\n",
    "train_len = len(dirx)\n",
    "\n",
    "fp = open('train.txt', 'w')\n",
    "cnt = 0\n",
    "\n",
    "for i in range(train_len-150):\n",
    "    tree = ET.ElementTree(file=\"train_cdc/train_annotations/\"+dirx[i])\n",
    "    fn = tree.findtext('filename')\n",
    "    objs = tree.findall('object')\n",
    "    \n",
    "    if len(objs)>0:\n",
    "        cnt+=1\n",
    "        fp.write('train_cdc/train_images/' + dirx[i][:-4]+'.jpg ')\n",
    "        for j in range(len(objs)):\n",
    "            xmin= objs[j].find('bndbox').findtext('xmin')\n",
    "            ymin= objs[j].find('bndbox').findtext('ymin')\n",
    "            xmax= objs[j].find('bndbox').findtext('xmax')\n",
    "            ymax= objs[j].find('bndbox').findtext('ymax')\n",
    "            if db(xmin,0) or db(xmax,0) or db(ymin,1) or db(ymax,1):\n",
    "                print(\"xmin=%s ymin=%s xman=%s ymax=%s  \" % (xmin, ymin, xmax, ymax))\n",
    "            else:\n",
    "                \n",
    "                n1 =  objs[j].findtext('name')\n",
    "\n",
    "                fp.write(\"%s,%s,%s,%s,%d \" % (xmin, ymin, xmax, ymax, maps[n1]))\n",
    "        fp.write('\\n')\n",
    "    else:\n",
    "        print('Filename %s not found'%(dirx[i]))\n",
    "        \n",
    "print('Totally we found %d images'% (cnt))\n",
    "fp.close()\n",
    "\n",
    "\n",
    "fp = open('test.txt', 'w')\n",
    "cnt = 0\n",
    "for i in range(train_len-150,train_len):\n",
    "    tree = ET.ElementTree(file=\"train_cdc/train_annotations/\"+dirx[i])\n",
    "    fn = tree.findtext('filename')\n",
    "    objs = tree.findall('object')\n",
    "    if len(objs)>0:\n",
    "        cnt+=1\n",
    "        fp.write('train_cdc/train_images/' + dirx[i][:-4]+'.jpg ')\n",
    "        for j in range(len(objs)):\n",
    "            xmin= objs[j].find('bndbox').findtext('xmin')\n",
    "            ymin= objs[j].find('bndbox').findtext('ymin')\n",
    "            xmax= objs[j].find('bndbox').findtext('xmax')\n",
    "            ymax= objs[j].find('bndbox').findtext('ymax')\n",
    "            if db(xmin,0) or db(xmax,0) or db(ymin,1) or db(ymax,1):\n",
    "                print(\"xmin=%s ymin=%s xman=%s ymax=%s  \" % (xmin, ymin, xmax, ymax))\n",
    "            else:\n",
    "                \n",
    "                n1 =  objs[j].findtext('name')\n",
    "\n",
    "                fp.write(\"%s,%s,%s,%s,%d \" % (xmin, ymin, xmax, ymax, maps[n1]))\n",
    "        fp.write('\\n')\n",
    "    else:\n",
    "        print('Filename %s not found'%(dirx[i]))\n",
    "        \n",
    "print('Totally we found %d images'% (cnt))\n",
    "fp.close()"
   ]
  },
  {
   "cell_type": "code",
   "execution_count": 2,
   "metadata": {},
   "outputs": [
    {
     "name": "stdout",
     "output_type": "stream",
     "text": [
      "[<Element 'object' at 0x000001EB1E547EA8>, <Element 'object' at 0x000001EB1E547318>]\n"
     ]
    }
   ],
   "source": [
    "print(tree.findall('object'))"
   ]
  },
  {
   "cell_type": "code",
   "execution_count": null,
   "metadata": {},
   "outputs": [],
   "source": []
  },
  {
   "cell_type": "code",
   "execution_count": null,
   "metadata": {},
   "outputs": [],
   "source": []
  }
 ],
 "metadata": {
  "kernelspec": {
   "display_name": "Python 3",
   "language": "python",
   "name": "python3"
  },
  "language_info": {
   "codemirror_mode": {
    "name": "ipython",
    "version": 3
   },
   "file_extension": ".py",
   "mimetype": "text/x-python",
   "name": "python",
   "nbconvert_exporter": "python",
   "pygments_lexer": "ipython3",
   "version": "3.6.7"
  }
 },
 "nbformat": 4,
 "nbformat_minor": 2
}
